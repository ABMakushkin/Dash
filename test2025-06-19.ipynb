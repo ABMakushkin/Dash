{
 "cells": [
  {
   "cell_type": "code",
   "execution_count": 3,
   "id": "70a22440-6996-4f7f-8b0c-c7dafdd5718f",
   "metadata": {},
   "outputs": [
    {
     "name": "stdout",
     "output_type": "stream",
     "text": [
      "test2025-06-19\n"
     ]
    }
   ],
   "source": [
    "def Foo():\n",
    "    print('test2025-06-19')\n",
    "\n",
    "if __name__ == '__main__':\n",
    "    Foo()"
   ]
  },
  {
   "cell_type": "code",
   "execution_count": null,
   "id": "f73e22df-7045-4e24-a483-7538e94e5c9e",
   "metadata": {},
   "outputs": [],
   "source": []
  }
 ],
 "metadata": {
  "kernelspec": {
   "display_name": "Python [conda env:base] *",
   "language": "python",
   "name": "conda-base-py"
  },
  "language_info": {
   "codemirror_mode": {
    "name": "ipython",
    "version": 3
   },
   "file_extension": ".py",
   "mimetype": "text/x-python",
   "name": "python",
   "nbconvert_exporter": "python",
   "pygments_lexer": "ipython3",
   "version": "3.12.7"
  }
 },
 "nbformat": 4,
 "nbformat_minor": 5
}
