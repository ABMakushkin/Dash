{
 "cells": [
  {
   "cell_type": "code",
   "execution_count": 4,
   "id": "c9299f60-73f4-4edc-9365-dc150ce527f0",
   "metadata": {},
   "outputs": [
    {
     "data": {
      "text/html": [
       "\n",
       "        <iframe\n",
       "            width=\"100%\"\n",
       "            height=\"650\"\n",
       "            src=\"http://127.0.0.1:8050/\"\n",
       "            frameborder=\"0\"\n",
       "            allowfullscreen\n",
       "            \n",
       "        ></iframe>\n",
       "        "
      ],
      "text/plain": [
       "<IPython.lib.display.IFrame at 0x1f6c0638da0>"
      ]
     },
     "metadata": {},
     "output_type": "display_data"
    }
   ],
   "source": [
    "import dash\n",
    "from dash import html\n",
    "import dash_bootstrap_components as dbc\n",
    "\n",
    "app = dash.Dash(__name__, external_stylesheets=[dbc.themes.DARKLY])\n",
    "\n",
    "app.layout = html.Div([\n",
    "    html.H1('Poverty And Equity Database',\n",
    "            style={'color': 'yellow',\n",
    "                   'fontSize': '40px'}),\n",
    "    html.H2('The World Bank'),\n",
    "    html.P('Key Facts:'),\n",
    "    html.Ul([\n",
    "        html.Li('Number of Economies: 170'),\n",
    "        html.Li('Temporal Coverage: 1974 - 2019'),\n",
    "        html.Li('Update Frequency: Quarterly'),\n",
    "        html.Li('Last Updated: March 18, 2020'),\n",
    "        html.Li([\n",
    "            'Source: ',\n",
    "            html.A(children='https://datacatalog.worldbank.org/dataset/poverty-and-equity-database',\n",
    "                   href='https://datacatalog.worldbank.org/dataset/poverty-and-equity-database')\n",
    "        ])\n",
    "    ])\n",
    "])\n",
    "\n",
    "if __name__ == '__main__':\n",
    "    app.run(debug=True)\n"
   ]
  },
  {
   "cell_type": "code",
   "execution_count": null,
   "id": "2c0147e7-d1ea-4c38-bf2e-929c72a58b66",
   "metadata": {},
   "outputs": [],
   "source": []
  }
 ],
 "metadata": {
  "kernelspec": {
   "display_name": "Python [conda env:base] *",
   "language": "python",
   "name": "conda-base-py"
  },
  "language_info": {
   "codemirror_mode": {
    "name": "ipython",
    "version": 3
   },
   "file_extension": ".py",
   "mimetype": "text/x-python",
   "name": "python",
   "nbconvert_exporter": "python",
   "pygments_lexer": "ipython3",
   "version": "3.12.7"
  }
 },
 "nbformat": 4,
 "nbformat_minor": 5
}
