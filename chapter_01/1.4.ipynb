{
 "cells": [
  {
   "cell_type": "code",
   "execution_count": 1,
   "id": "e4e3ccd6-1b8d-419b-a59c-110e7102d658",
   "metadata": {},
   "outputs": [
    {
     "data": {
      "text/html": [
       "\n",
       "        <iframe\n",
       "            width=\"100%\"\n",
       "            height=\"650\"\n",
       "            src=\"http://127.0.0.1:8050/\"\n",
       "            frameborder=\"0\"\n",
       "            allowfullscreen\n",
       "            \n",
       "        ></iframe>\n",
       "        "
      ],
      "text/plain": [
       "<IPython.lib.display.IFrame at 0x1b5a7ebb560>"
      ]
     },
     "metadata": {},
     "output_type": "display_data"
    }
   ],
   "source": [
    "import dash\n",
    "from dash import html\n",
    "import dash_bootstrap_components as dbc\n",
    "\n",
    "app = dash.Dash(__name__, external_stylesheets=[dbc.themes.BOOTSTRAP])\n",
    "\n",
    "app.layout = html.Div([\n",
    "    html.H1('Poverty And Equity Database',\n",
    "            style={'color': 'blue',\n",
    "                   'fontSize': '40px'}),\n",
    "    html.H2('The World Bank'),\n",
    "    dbc.Tabs([\n",
    "       dbc.Tab([\n",
    "           html.Ul([\n",
    "               html.Br(),\n",
    "               html.Li('Number of Economies: 170'),\n",
    "               html.Li('Temporal Coverage: 1974 - 2019'),\n",
    "               html.Li('Update Frequency: Quarterly'),\n",
    "               html.Li('Last Updated: March 18, 2020'),\n",
    "               html.Li([\n",
    "                   'Source: ',\n",
    "                   html.A('https://datacatalog.worldbank.org/dataset/poverty-and-equity-database',\n",
    "                          href='https://datacatalog.worldbank.org/dataset/poverty-and-equity-database')\n",
    "               ])\n",
    "           ])\n",
    "\n",
    "       ], label='Key Facts'),\n",
    "        dbc.Tab([\n",
    "            html.Ul([\n",
    "                html.Br(),\n",
    "                html.Li('Book title: Interactive Dashboards and Data Apps with Plotly and Dash'),\n",
    "                html.Li(['GitHub repo: ',\n",
    "                         html.A('https://github.com/PacktPublishing/Interactive-Dashboards-and-Data-Apps-with-Plotly-and-Dash',\n",
    "                                href='https://github.com/PacktPublishing/Interactive-Dashboards-and-Data-Apps-with-Plotly-and-Dash')\n",
    "                         ])\n",
    "            ])\n",
    "        ], label='Project Info')\n",
    "    ]),\n",
    "])\n",
    "\n",
    "\n",
    "if __name__ == '__main__':\n",
    "    app.run(debug=True)\n"
   ]
  },
  {
   "cell_type": "code",
   "execution_count": null,
   "id": "ae1e9b65-dffb-4408-94b6-ba3d684b694e",
   "metadata": {},
   "outputs": [],
   "source": []
  }
 ],
 "metadata": {
  "kernelspec": {
   "display_name": "Python [conda env:base] *",
   "language": "python",
   "name": "conda-base-py"
  },
  "language_info": {
   "codemirror_mode": {
    "name": "ipython",
    "version": 3
   },
   "file_extension": ".py",
   "mimetype": "text/x-python",
   "name": "python",
   "nbconvert_exporter": "python",
   "pygments_lexer": "ipython3",
   "version": "3.12.7"
  }
 },
 "nbformat": 4,
 "nbformat_minor": 5
}
